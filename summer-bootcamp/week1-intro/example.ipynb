{
 "cells": [
  {
   "cell_type": "markdown",
   "metadata": {},
   "source": [
    "## Jupyter Notebook\n",
    "一般用来可以写markdown文档或者是运行python3代码\n",
    "\n",
    "#### 下面是python-study-map的例子"
   ]
  },
  {
   "cell_type": "code",
   "execution_count": 8,
   "metadata": {},
   "outputs": [
    {
     "name": "stdout",
     "output_type": "stream",
     "text": [
      "[1, 2, 3]\n",
      "[1, 2, 3, 5]\n",
      "4\n",
      "2\n",
      "[1, 2, 3, 5, 1, 9, 10]\n"
     ]
    }
   ],
   "source": [
    "# List example: \n",
    "# Attentation: use English only when writing code and comments.\n",
    "# Be aware of the Python coding style.\n",
    "\n",
    "# init a list value\n",
    "number_list = [1, 2, 3]\n",
    "# print number_list to console\n",
    "print(number_list)\n",
    "\n",
    "# add elemement 5 to number_list\n",
    "number_list.append(5)\n",
    "# check the current state of number_list\n",
    "print(number_list)\n",
    "\n",
    "# get the size of number_list\n",
    "print(len(number_list))\n",
    "\n",
    "# add 1 to number_list\n",
    "number_list.append(1)\n",
    "# count the appearance of 1 in number_list\n",
    "print(number_list.count(1))\n",
    "\n",
    "# try extend method\n",
    "number_list.extend([9, 10])\n",
    "# print result\n",
    "print(number_list)\n"
   ]
  },
  {
   "cell_type": "code",
   "execution_count": null,
   "metadata": {},
   "outputs": [],
   "source": []
  },
  {
   "cell_type": "code",
   "execution_count": null,
   "metadata": {},
   "outputs": [],
   "source": []
  }
 ],
 "metadata": {
  "kernelspec": {
   "display_name": "Python 3",
   "language": "python",
   "name": "python3"
  },
  "language_info": {
   "codemirror_mode": {
    "name": "ipython",
    "version": 3
   },
   "file_extension": ".py",
   "mimetype": "text/x-python",
   "name": "python",
   "nbconvert_exporter": "python",
   "pygments_lexer": "ipython3",
   "version": "3.7.3"
  }
 },
 "nbformat": 4,
 "nbformat_minor": 2
}
